{
  "nbformat": 4,
  "nbformat_minor": 0,
  "metadata": {
    "colab": {
      "provenance": []
    },
    "kernelspec": {
      "name": "python3",
      "display_name": "Python 3"
    },
    "language_info": {
      "name": "python"
    }
  },
  "cells": [
    {
      "cell_type": "markdown",
      "source": [
        "# 1- Import Libraries"
      ],
      "metadata": {
        "id": "fiQbO-yqoNTj"
      }
    },
    {
      "cell_type": "code",
      "execution_count": 1,
      "metadata": {
        "id": "dlpM2WM3cSR2"
      },
      "outputs": [],
      "source": [
        "import pandas as pd\n",
        "import numpy as np\n",
        "import requests\n",
        "import re\n",
        "from io import BytesIO\n",
        "from zipfile import ZipFile\n",
        "from sklearn.feature_extraction.text import CountVectorizer\n",
        "from urllib.parse import urlparse\n",
        "from sklearn.feature_extraction.text import TfidfVectorizer\n",
        "from sklearn.cluster import KMeans"
      ]
    },
    {
      "cell_type": "markdown",
      "source": [
        "##1.1- Download the dataset"
      ],
      "metadata": {
        "id": "WCrt2pX3TBzp"
      }
    },
    {
      "cell_type": "code",
      "source": [
        "url ='https://github.com/psonkar07/Job-Portal-Analysis/raw/main/jobs.csv.zip'\n",
        "response = requests.get(url)\n",
        "\n",
        "if response.status_code == 200:\n",
        "    zip_file = BytesIO(response.content)\n",
        "    with ZipFile(zip_file) as z:\n",
        "        print(z.namelist())\n",
        "        with z.open('jobs.csv') as f:\n",
        "            df = pd.read_csv(f)\n",
        "            print(df.head())\n",
        "else:\n",
        "    print(f\"Failed to download file: {response.status_code}\")\n",
        "\n"
      ],
      "metadata": {
        "colab": {
          "base_uri": "https://localhost:8080/"
        },
        "id": "lc8XkAb5iPg6",
        "outputId": "1147c770-1b1a-415f-ffc5-7920f1f8f1eb"
      },
      "execution_count": 2,
      "outputs": [
        {
          "output_type": "stream",
          "name": "stdout",
          "text": [
            "['jobs.csv']\n",
            "         job_id                                           job_role    company  \\\n",
            "0  7.012301e+10      Branch Banking - Calling For Women Candidates  Hdfc Bank   \n",
            "1  6.012391e+10                       Product Owner Senior Manager  Accenture   \n",
            "2  6.012391e+10  Employee Relations and Policies Associate Manager  Accenture   \n",
            "3  6.012391e+10         Employee Relations and Policies Specialist  Accenture   \n",
            "4  6.012301e+10                                  SAP BO Consultant   Mindtree   \n",
            "\n",
            "  experience         salary  \\\n",
            "0    1-6 Yrs  Not disclosed   \n",
            "1  11-15 Yrs  Not disclosed   \n",
            "2    3-7 Yrs  Not disclosed   \n",
            "3    3-7 Yrs  Not disclosed   \n",
            "4    5-7 Yrs  Not disclosed   \n",
            "\n",
            "                                            location  rating        reviews  \\\n",
            "0  Kolkata, Hyderabad/Secunderabad, Pune, Ahmedab...     4.0  39110 Reviews   \n",
            "1  Kolkata, Mumbai, Hyderabad/Secunderabad, Pune,...     4.1  32129 Reviews   \n",
            "2  Kolkata, Mumbai, Hyderabad/Secunderabad, Pune,...     4.1  32129 Reviews   \n",
            "3  Kolkata, Mumbai, Hyderabad/Secunderabad, Pune,...     4.1  32129 Reviews   \n",
            "4  Hybrid - Kolkata, Hyderabad/Secunderabad, Pune...     4.1   3759 Reviews   \n",
            "\n",
            "                                     resposibilities  posted_on  \\\n",
            "0     Customer Service,Sales,Relationship Management  1 Day Ago   \n",
            "1  Product management,Market analysis,Change mana...  1 Day Ago   \n",
            "2  Business process,Change management,Team manage...  1 Day Ago   \n",
            "3  Business process,Change management,Team manage...  1 Day Ago   \n",
            "4  SAP BO,PL / SQL,Oracle SQL,SAP Business Object...  1 Day Ago   \n",
            "\n",
            "                                            job_link  \\\n",
            "0  https://www.naukri.com/job-listings-branch-ban...   \n",
            "1  https://www.naukri.com/job-listings-product-ow...   \n",
            "2  https://www.naukri.com/job-listings-employee-r...   \n",
            "3  https://www.naukri.com/job-listings-employee-r...   \n",
            "4  https://www.naukri.com/job-listings-sap-bo-con...   \n",
            "\n",
            "                                        company_link  \n",
            "0  https://www.naukri.com/hdfc-bank-jobs-careers-213  \n",
            "1  https://www.naukri.com/accenture-jobs-careers-...  \n",
            "2  https://www.naukri.com/accenture-jobs-careers-...  \n",
            "3  https://www.naukri.com/accenture-jobs-careers-...  \n",
            "4  https://www.naukri.com/mindtree-jobs-careers-3...  \n"
          ]
        }
      ]
    },
    {
      "cell_type": "markdown",
      "source": [
        "## 1.2- Dataset info"
      ],
      "metadata": {
        "id": "m4v8zkrAoy1Y"
      }
    },
    {
      "cell_type": "code",
      "source": [
        "print(\"\\nDataset summary:\")\n",
        "print(df.info())"
      ],
      "metadata": {
        "colab": {
          "base_uri": "https://localhost:8080/"
        },
        "id": "wdoF2XfzidTx",
        "outputId": "f7e50f52-db97-4b3d-ae57-b96e113a4ccb"
      },
      "execution_count": 3,
      "outputs": [
        {
          "output_type": "stream",
          "name": "stdout",
          "text": [
            "\n",
            "Dataset summary:\n",
            "<class 'pandas.core.frame.DataFrame'>\n",
            "RangeIndex: 79147 entries, 0 to 79146\n",
            "Data columns (total 12 columns):\n",
            " #   Column           Non-Null Count  Dtype  \n",
            "---  ------           --------------  -----  \n",
            " 0   job_id           78667 non-null  float64\n",
            " 1   job_role         78667 non-null  object \n",
            " 2   company          78666 non-null  object \n",
            " 3   experience       77398 non-null  object \n",
            " 4   salary           78667 non-null  object \n",
            " 5   location         77441 non-null  object \n",
            " 6   rating           42948 non-null  float64\n",
            " 7   reviews          42948 non-null  object \n",
            " 8   resposibilities  78647 non-null  object \n",
            " 9   posted_on        78667 non-null  object \n",
            " 10  job_link         78667 non-null  object \n",
            " 11  company_link     78667 non-null  object \n",
            "dtypes: float64(2), object(10)\n",
            "memory usage: 7.2+ MB\n",
            "None\n"
          ]
        }
      ]
    },
    {
      "cell_type": "markdown",
      "source": [
        "## 1.3- Checking Null Values"
      ],
      "metadata": {
        "id": "OrM1Hm2tp9I9"
      }
    },
    {
      "cell_type": "code",
      "source": [
        "df.isnull().sum()"
      ],
      "metadata": {
        "colab": {
          "base_uri": "https://localhost:8080/",
          "height": 460
        },
        "id": "Z_8KAJTGo7uf",
        "outputId": "9c7183b9-1cdb-4be1-d0ab-379dc178fc34"
      },
      "execution_count": 4,
      "outputs": [
        {
          "output_type": "execute_result",
          "data": {
            "text/plain": [
              "job_id               480\n",
              "job_role             480\n",
              "company              481\n",
              "experience          1749\n",
              "salary               480\n",
              "location            1706\n",
              "rating             36199\n",
              "reviews            36199\n",
              "resposibilities      500\n",
              "posted_on            480\n",
              "job_link             480\n",
              "company_link         480\n",
              "dtype: int64"
            ],
            "text/html": [
              "<table border=\"1\" class=\"dataframe\">\n",
              "  <thead>\n",
              "    <tr style=\"text-align: right;\">\n",
              "      <th></th>\n",
              "      <th>0</th>\n",
              "    </tr>\n",
              "  </thead>\n",
              "  <tbody>\n",
              "    <tr>\n",
              "      <th>job_id</th>\n",
              "      <td>480</td>\n",
              "    </tr>\n",
              "    <tr>\n",
              "      <th>job_role</th>\n",
              "      <td>480</td>\n",
              "    </tr>\n",
              "    <tr>\n",
              "      <th>company</th>\n",
              "      <td>481</td>\n",
              "    </tr>\n",
              "    <tr>\n",
              "      <th>experience</th>\n",
              "      <td>1749</td>\n",
              "    </tr>\n",
              "    <tr>\n",
              "      <th>salary</th>\n",
              "      <td>480</td>\n",
              "    </tr>\n",
              "    <tr>\n",
              "      <th>location</th>\n",
              "      <td>1706</td>\n",
              "    </tr>\n",
              "    <tr>\n",
              "      <th>rating</th>\n",
              "      <td>36199</td>\n",
              "    </tr>\n",
              "    <tr>\n",
              "      <th>reviews</th>\n",
              "      <td>36199</td>\n",
              "    </tr>\n",
              "    <tr>\n",
              "      <th>resposibilities</th>\n",
              "      <td>500</td>\n",
              "    </tr>\n",
              "    <tr>\n",
              "      <th>posted_on</th>\n",
              "      <td>480</td>\n",
              "    </tr>\n",
              "    <tr>\n",
              "      <th>job_link</th>\n",
              "      <td>480</td>\n",
              "    </tr>\n",
              "    <tr>\n",
              "      <th>company_link</th>\n",
              "      <td>480</td>\n",
              "    </tr>\n",
              "  </tbody>\n",
              "</table><br><label><b>dtype:</b> int64</label>"
            ]
          },
          "metadata": {},
          "execution_count": 4
        }
      ]
    },
    {
      "cell_type": "markdown",
      "source": [
        "#2- Data Cleaning"
      ],
      "metadata": {
        "id": "ieW00Nekqm0H"
      }
    },
    {
      "cell_type": "code",
      "source": [
        "# Correct column name\n",
        "df.rename(columns={'resposibilities': 'responsibilities'}, inplace=True)\n",
        "\n",
        "# Handling null values\n",
        "df.dropna(subset=['job_id', 'job_role', 'company', 'experience', 'salary', 'location','responsibilities', 'posted_on', 'job_link','company_link'], inplace=True)\n",
        "df['experience'].fillna('Unknown', inplace=True)\n",
        "df['location'].fillna('Unknown', inplace=True)\n",
        "df['rating'] = pd.to_numeric(df['rating'], errors='coerce')\n",
        "\n",
        "# Convert reviews to string first\n",
        "df['reviews'] = df['reviews'].astype(str).str.replace(' Reviews', '').astype(float, errors='ignore')\n",
        "\n",
        "median_rating = df['rating'].median()\n",
        "median_reviews = df['reviews'].median()\n",
        "df['rating'].fillna(median_rating, inplace=True)\n",
        "df['reviews'].fillna(median_reviews, inplace=True)\n",
        "df['responsibilities'].fillna('Not specified', inplace=True)\n",
        "\n",
        "# Correcting data types\n",
        "df['job_id'] = df['job_id'].astype(str)\n",
        "df['experience'] = df['experience'].str.strip()\n",
        "df['salary'] = df['salary'].str.strip()\n",
        "df['location'] = df['location'].str.strip()\n",
        "df = df.drop_duplicates(subset = 'job_link')\n",
        "print(df.isnull().sum())"
      ],
      "metadata": {
        "colab": {
          "base_uri": "https://localhost:8080/"
        },
        "id": "67DPaby0qIWs",
        "outputId": "63a53c4f-2b99-4a8d-b056-4224cfff0daa"
      },
      "execution_count": 5,
      "outputs": [
        {
          "output_type": "stream",
          "name": "stdout",
          "text": [
            "job_id              0\n",
            "job_role            0\n",
            "company             0\n",
            "experience          0\n",
            "salary              0\n",
            "location            0\n",
            "rating              0\n",
            "reviews             0\n",
            "responsibilities    0\n",
            "posted_on           0\n",
            "job_link            0\n",
            "company_link        0\n",
            "dtype: int64\n"
          ]
        }
      ]
    },
    {
      "cell_type": "markdown",
      "source": [
        "#3- Exploratory Data Analysis(EDA)\n",
        "###3.1- Exploring job_id column"
      ],
      "metadata": {
        "id": "88yZoSChsffC"
      }
    },
    {
      "cell_type": "code",
      "source": [
        "# Check for uniquw numbers of 'job_id'column\n",
        "unique_ids = df['job_id'].nunique()\n",
        "print(f\"Unique job_id entries: {unique_ids}\")\n",
        "\n",
        "#convert into string\n",
        "df['job_id'] = df['job_id'].astype(str)\n",
        "\n",
        "# Check for duplicates in 'job_id' column\n",
        "duplicate_ids = df['job_id'].duplicated().sum()\n",
        "print(f\"Number of duplicate job_ids: {duplicate_ids}\")\n",
        "\n",
        "# Check for null values in 'job_id' column\n",
        "missing_job_ids = df['job_id'].isnull().sum()\n",
        "print(f\"Number of missing job_ids: {missing_job_ids}\")\n",
        "\n",
        "# After the changes\n",
        "print(\"\\nAfter cleaning:\")\n",
        "print(f\"Total job_id entries: {df['job_id'].count()}\")\n",
        "print(f\"Unique job_id entries: {df['job_id'].nunique()}\")\n",
        "print(f\"Number of duplicate job_ids: {df['job_id'].duplicated().sum()}\")\n",
        "print(f\"Number of missing job_ids: {df['job_id'].isnull().sum()}\")"
      ],
      "metadata": {
        "colab": {
          "base_uri": "https://localhost:8080/"
        },
        "id": "EQghMsX0r3AK",
        "outputId": "fb2a34bd-5fef-41e6-9946-0a24890e18d2"
      },
      "execution_count": 6,
      "outputs": [
        {
          "output_type": "stream",
          "name": "stdout",
          "text": [
            "Unique job_id entries: 71738\n",
            "Number of duplicate job_ids: 0\n",
            "Number of missing job_ids: 0\n",
            "\n",
            "After cleaning:\n",
            "Total job_id entries: 71738\n",
            "Unique job_id entries: 71738\n",
            "Number of duplicate job_ids: 0\n",
            "Number of missing job_ids: 0\n"
          ]
        }
      ]
    },
    {
      "cell_type": "markdown",
      "source": [
        "### 3.2- Exploring job_role column"
      ],
      "metadata": {
        "id": "BfOawheguDh0"
      }
    },
    {
      "cell_type": "code",
      "source": [
        "# Check for unique job roles\n",
        "print(f\"Number of unique job roles: {df['job_role'].nunique()}\")\n",
        "\n",
        "# Distribution of job roles\n",
        "print(\"\\nTop 10 job roles:\")\n",
        "print(df['job_role'].value_counts().head(10))\n",
        "\n",
        "# Standardize job role column\n",
        "df['job_role'] = df['job_role'].str.strip().str.title()\n"
      ],
      "metadata": {
        "colab": {
          "base_uri": "https://localhost:8080/"
        },
        "id": "nWHpcSpnsCT3",
        "outputId": "d38160c1-d080-4420-c9fc-c275178af9f4"
      },
      "execution_count": 7,
      "outputs": [
        {
          "output_type": "stream",
          "name": "stdout",
          "text": [
            "Number of unique job roles: 50240\n",
            "\n",
            "Top 10 job roles:\n",
            "job_role\n",
            "Business Development Executive    296\n",
            "Sales Executive                   261\n",
            "Java Developer                    249\n",
            "Business Development Manager      238\n",
            "Sales Manager                     153\n",
            "Senior Software Engineer          143\n",
            "Graphic Designer                  141\n",
            "Business Analyst                  136\n",
            "Software Engineer                 131\n",
            "Dot Net Developer                 130\n",
            "Name: count, dtype: int64\n"
          ]
        }
      ]
    },
    {
      "cell_type": "markdown",
      "source": [
        "### 3.3- Exploring company column"
      ],
      "metadata": {
        "id": "h0IKBpv3vyql"
      }
    },
    {
      "cell_type": "code",
      "source": [
        "# Checking for unique companies\n",
        "unique_companies = df['company'].nunique()\n",
        "print(f\"Number of unique companies: {unique_companies}\")\n",
        "\n",
        "# Distribution of companies\n",
        "company_counts = df['company'].value_counts().head(10)\n",
        "print(f\"Frequency of each company: {company_counts}\")\n",
        "\n",
        "# Handle null Values\n",
        "missing_companies = df['company'].isnull().sum()\n",
        "print(f\"Number of missing companies: {missing_companies}\")\n",
        "\n",
        "# Remove whitespaces and standardize text\n",
        "df['company'] = df['company'].str.strip().str.title()\n",
        "\n",
        "\n",
        "# After the changes\n",
        "print(\"\\nAfter cleaning:\")\n",
        "print(f\"Number of unique companies after cleaning: {df['company'].nunique()}\")\n",
        "print(df['company'].value_counts().head(10))\n",
        "print(f\"Number of missing companies after cleaning: {df['company'].isnull().sum()}\")"
      ],
      "metadata": {
        "colab": {
          "base_uri": "https://localhost:8080/"
        },
        "id": "r48GFTsFveYb",
        "outputId": "2a486ab6-db11-4803-ef52-2bc1e98c7851"
      },
      "execution_count": 8,
      "outputs": [
        {
          "output_type": "stream",
          "name": "stdout",
          "text": [
            "Number of unique companies: 14927\n",
            "Frequency of each company: company\n",
            "Lavya Associates          5128\n",
            "Accenture                 2928\n",
            "Hucon                      852\n",
            "Varite India Pvt. Ltd.     815\n",
            "IBM                        656\n",
            "Megma Services             523\n",
            "Infosys                    505\n",
            "D'source                   502\n",
            "RCPC                       444\n",
            "Tekpillar Services         377\n",
            "Name: count, dtype: int64\n",
            "Number of missing companies: 0\n",
            "\n",
            "After cleaning:\n",
            "Number of unique companies after cleaning: 14777\n",
            "company\n",
            "Lavya Associates          5128\n",
            "Accenture                 2928\n",
            "Hucon                      852\n",
            "Varite India Pvt. Ltd.     815\n",
            "Ibm                        656\n",
            "Megma Services             523\n",
            "Infosys                    505\n",
            "D'Source                   502\n",
            "Rcpc                       444\n",
            "Tekpillar Services         377\n",
            "Name: count, dtype: int64\n",
            "Number of missing companies after cleaning: 0\n"
          ]
        }
      ]
    },
    {
      "cell_type": "markdown",
      "source": [
        "###3.4- Exploring experience column"
      ],
      "metadata": {
        "id": "HYzJ8EmIyBmI"
      }
    },
    {
      "cell_type": "code",
      "source": [
        "# Remove whitespaces and standardize text\n",
        "df['experience'] = df['experience'].str.strip()\n",
        "\n",
        "# Handle null Values\n",
        "missing_experience = df['experience'].isnull().sum()\n",
        "print(f\"Number of missing experience values: {missing_experience}\")\n",
        "\n",
        "#Categorize experience\n",
        "def experience_to_range(exp):\n",
        "    if '-' in exp:\n",
        "        min_exp, max_exp = map(int, exp.replace(' Yrs', '').split('-'))\n",
        "        return (min_exp + max_exp) / 2\n",
        "    elif 'Yrs' in exp:\n",
        "        return int(exp.split()[0])\n",
        "    elif exp == 'Unknown':              # Handle the 'Unknown' case directly\n",
        "        return 0\n",
        "    else:\n",
        "        return None\n",
        "\n",
        "#Apply the function to categorize experience\n",
        "df['experience_range'] = df['experience'].apply(experience_to_range)\n",
        "\n",
        "# After the changes\n",
        "print(\"\\nAfter cleaning:\")\n",
        "print(df['experience_range'].value_counts())\n",
        "print(f\"Number of unique experience categories: {df['experience_range'].nunique()}\")\n",
        "print(f\"Number of missing experience values after cleaning: {df['experience'].isnull().sum()}\")\n"
      ],
      "metadata": {
        "colab": {
          "base_uri": "https://localhost:8080/"
        },
        "id": "w7NWkFwVxGAh",
        "outputId": "26bbec95-3cde-4a5d-9f72-8a3ccbe30e2c"
      },
      "execution_count": 9,
      "outputs": [
        {
          "output_type": "stream",
          "name": "stdout",
          "text": [
            "Number of missing experience values: 0\n",
            "\n",
            "After cleaning:\n",
            "experience_range\n",
            "7.5     7849\n",
            "3.5     6247\n",
            "2.5     5572\n",
            "5.5     5073\n",
            "4.5     5010\n",
            "6.5     4421\n",
            "3.0     4256\n",
            "4.0     3814\n",
            "5.0     3755\n",
            "2.0     3701\n",
            "1.5     2771\n",
            "6.0     2459\n",
            "0.5     1989\n",
            "1.0     1952\n",
            "7.0     1566\n",
            "8.5     1535\n",
            "9.5     1264\n",
            "10.5    1132\n",
            "9.0      990\n",
            "8.0      901\n",
            "12.5     819\n",
            "15.0     706\n",
            "10.0     623\n",
            "0.0      541\n",
            "11.0     421\n",
            "13.5     357\n",
            "11.5     342\n",
            "17.5     280\n",
            "14.0     195\n",
            "12.0     169\n",
            "16.0     147\n",
            "13.0     142\n",
            "19.5     112\n",
            "14.5      93\n",
            "17.0      85\n",
            "16.5      78\n",
            "15.5      66\n",
            "19.0      45\n",
            "18.5      34\n",
            "22.5      31\n",
            "18.0      30\n",
            "25.0      23\n",
            "21.5      23\n",
            "20.0      19\n",
            "20.5      18\n",
            "21.0      14\n",
            "22.0      11\n",
            "23.0       9\n",
            "24.0       9\n",
            "28.0       8\n",
            "23.5       7\n",
            "24.5       5\n",
            "25.5       5\n",
            "27.5       4\n",
            "28.5       4\n",
            "26.5       4\n",
            "26.0       2\n",
            "Name: count, dtype: int64\n",
            "Number of unique experience categories: 57\n",
            "Number of missing experience values after cleaning: 0\n"
          ]
        }
      ]
    },
    {
      "cell_type": "markdown",
      "source": [
        "### 3.5- Exploring salary column\n"
      ],
      "metadata": {
        "id": "s5PMI8c80w26"
      }
    },
    {
      "cell_type": "code",
      "source": [
        "# Remove white spaces\n",
        "df['salary'] = df['salary'].str.strip()\n",
        "\n",
        "# Handle null values\n",
        "missing_salaries = df['salary'].isnull().sum()\n",
        "print(f\"Number of missing salary values: {missing_salaries}\")\n",
        "\n",
        "if missing_salaries > 0:\n",
        "    df['salary'].fillna('Not Disclosed', inplace=True)\n",
        "    print(\"Missing salary values filled with 'Not Disclosed'.\")\n",
        "\n",
        "# clean salary ranges\n",
        "def extract_average_salary(salary):\n",
        "    if salary == \"Not Disclosed\":\n",
        "        return salary\n",
        "    else:\n",
        "        match = re.search(r'([\\d,]+)\\s*-\\s*([\\d,]+)\\s*PA', salary)\n",
        "        if match:\n",
        "            lower_salary = int(match.group(1).replace(',', ''))\n",
        "            upper_salary = int(match.group(2).replace(',', ''))\n",
        "            return (lower_salary + upper_salary) / 2\n",
        "        return salary\n",
        "\n",
        "df['salary_range'] = df['salary'].apply(extract_average_salary)\n",
        "\n",
        "# After the changes\n",
        "print(\"\\nAfter cleaning:\")\n",
        "print(df[['salary', 'salary_range']])\n"
      ],
      "metadata": {
        "colab": {
          "base_uri": "https://localhost:8080/"
        },
        "id": "sN0GFnEEypF-",
        "outputId": "4841c5e0-cfea-4f60-c5fe-216fd9d86da1"
      },
      "execution_count": 10,
      "outputs": [
        {
          "output_type": "stream",
          "name": "stdout",
          "text": [
            "Number of missing salary values: 0\n",
            "\n",
            "After cleaning:\n",
            "                        salary   salary_range\n",
            "0                Not disclosed  Not disclosed\n",
            "1                Not disclosed  Not disclosed\n",
            "2                Not disclosed  Not disclosed\n",
            "3                Not disclosed  Not disclosed\n",
            "4                Not disclosed  Not disclosed\n",
            "...                        ...            ...\n",
            "73762  7,00,000 - 8,50,000 PA.       775000.0\n",
            "73763  7,00,000 - 8,50,000 PA.       775000.0\n",
            "73764  3,00,000 - 4,50,000 PA.       375000.0\n",
            "73765            Not disclosed  Not disclosed\n",
            "73766            Not disclosed  Not disclosed\n",
            "\n",
            "[71738 rows x 2 columns]\n"
          ]
        }
      ]
    },
    {
      "cell_type": "markdown",
      "source": [
        "###3.6- Exploring location column"
      ],
      "metadata": {
        "id": "bpLzIf5J3UPy"
      }
    },
    {
      "cell_type": "code",
      "source": [
        "# Data Preprocessing\n",
        "df['location'] = df['location'].str.strip().str.title().fillna('Unknown')\n",
        "\n",
        "# TF-IDF Vectorization\n",
        "vectorizer = TfidfVectorizer(stop_words='english')\n",
        "X = vectorizer.fit_transform(df['location'])\n",
        "\n",
        "# Clustering\n",
        "num_clusters = 10  # Adjust the number of clusters as needed\n",
        "kmeans = KMeans(n_clusters=num_clusters, random_state=42)\n",
        "df['location_cluster'] = kmeans.fit_predict(X)\n",
        "\n",
        "# Automate Replacement Based on Clusters\n",
        "cluster_replacements = {}\n",
        "for cluster_num in range(num_clusters):\n",
        "    cluster_locations = df[df['location_cluster'] == cluster_num]['location']\n",
        "    most_common_term = cluster_locations.value_counts().idxmax()\n",
        "    for location in cluster_locations.unique():\n",
        "        cluster_replacements[location] = most_common_term\n",
        "\n",
        "# Replace Synonyms\n",
        "df['location'] = df['location'].replace(cluster_replacements)\n",
        "\n",
        "# Verify the Changes\n",
        "print(\"\\nVerification after cleaning:\")\n",
        "print(df['location'].value_counts().head(10))\n",
        "print(f\"Number of unique locations after cleaning: {df['location'].nunique()}\")\n",
        "print(f\"Number of missing locations after cleaning: {df['location'].isnull().sum()}\")"
      ],
      "metadata": {
        "colab": {
          "base_uri": "https://localhost:8080/"
        },
        "id": "SmcyVxYJ3JzT",
        "outputId": "dca86c02-0127-47b0-bf56-2c6902c80bf7"
      },
      "execution_count": 11,
      "outputs": [
        {
          "output_type": "stream",
          "name": "stderr",
          "text": [
            "/usr/local/lib/python3.10/dist-packages/sklearn/cluster/_kmeans.py:1416: FutureWarning: The default value of `n_init` will change from 10 to 'auto' in 1.4. Set the value of `n_init` explicitly to suppress the warning\n",
            "  super()._check_params_vs_input(X, default_n_init=10)\n"
          ]
        },
        {
          "output_type": "stream",
          "name": "stdout",
          "text": [
            "\n",
            "Verification after cleaning:\n",
            "location\n",
            "Permanent Remote          28486\n",
            "Bangalore/Bengaluru       10862\n",
            "Hyderabad/Secunderabad     6597\n",
            "Mumbai                     5643\n",
            "Delhi / Ncr                4815\n",
            "Gurgaon/Gurugram           4707\n",
            "Chennai                    3778\n",
            "Pune                       3520\n",
            "Noida                      2611\n",
            "Vadodara                    719\n",
            "Name: count, dtype: int64\n",
            "Number of unique locations after cleaning: 10\n",
            "Number of missing locations after cleaning: 0\n"
          ]
        }
      ]
    },
    {
      "cell_type": "markdown",
      "source": [
        "### 3.7- Exploring rating column"
      ],
      "metadata": {
        "id": "lQK-_aMlGCA7"
      }
    },
    {
      "cell_type": "code",
      "source": [
        "# convert into numeric\n",
        "df['rating'] = pd.to_numeric(df['rating'], errors='coerce')\n",
        "\n",
        "# Calculate the median of 'rating'\n",
        "median_rating = df['rating'].median()\n",
        "\n",
        "# Fill missing values with the median rating\n",
        "df['rating'].fillna(median_rating, inplace=True)\n",
        "print(f\"Number of missing ratings after cleaning: {df['rating'].isnull().sum()}\")\n"
      ],
      "metadata": {
        "colab": {
          "base_uri": "https://localhost:8080/"
        },
        "id": "Vsw6DFM94vVx",
        "outputId": "d4e392b5-f13e-4737-d292-0196602d559b"
      },
      "execution_count": 12,
      "outputs": [
        {
          "output_type": "stream",
          "name": "stdout",
          "text": [
            "Number of missing ratings after cleaning: 0\n"
          ]
        }
      ]
    },
    {
      "cell_type": "markdown",
      "source": [
        "###3.8- Exploring reviews column"
      ],
      "metadata": {
        "id": "F-Lm5wWQGZqF"
      }
    },
    {
      "cell_type": "code",
      "source": [
        "df['reviews'] = df['reviews'].astype(str)\n",
        "\n",
        "# Remove text 'reviews' and keep only the numeric part\n",
        "df['reviews'] = df['reviews'].str.replace('Reviews', '', regex=False).str.strip()\n",
        "\n",
        "# Convert the 'reviews' column to numeric, forcing errors to NaN\n",
        "df['reviews'] = pd.to_numeric(df['reviews'], errors='coerce')\n",
        "\n",
        "# Calculate the median of the 'reviews' column\n",
        "median_reviews = df['reviews'].median()\n",
        "\n",
        "# Replace NaN values with the median\n",
        "df['reviews'].fillna(median_reviews, inplace=True)\n",
        "\n",
        "print(df['reviews'])\n"
      ],
      "metadata": {
        "colab": {
          "base_uri": "https://localhost:8080/"
        },
        "id": "9r2PvC7bBHs8",
        "outputId": "abac7f21-c3ca-4e4f-d3be-efc80b05d8d8"
      },
      "execution_count": 13,
      "outputs": [
        {
          "output_type": "stream",
          "name": "stdout",
          "text": [
            "0        39110.0\n",
            "1        32129.0\n",
            "2        32129.0\n",
            "3        32129.0\n",
            "4         3759.0\n",
            "          ...   \n",
            "73762      231.0\n",
            "73763      231.0\n",
            "73764      231.0\n",
            "73765        3.0\n",
            "73766      231.0\n",
            "Name: reviews, Length: 71738, dtype: float64\n"
          ]
        }
      ]
    },
    {
      "cell_type": "markdown",
      "source": [
        "###3.9- Exploring responsibilities column"
      ],
      "metadata": {
        "id": "3EdykJMRH43-"
      }
    },
    {
      "cell_type": "code",
      "source": [
        "# Data Preprocessing\n",
        "df['responsibilities'] = df['responsibilities'].str.lower()\n",
        "\n",
        "# Handle Missing Values\n",
        "missing_responsibilities = df['responsibilities'].isnull().sum()\n",
        "print(f\"Number of missing responsibilities: {missing_responsibilities}\")\n",
        "\n",
        "if missing_responsibilities > 0:\n",
        "    df['responsibilities'].fillna('Not specified', inplace=True)\n",
        "    print(\"Missing responsibilities filled with 'Not specified'.\")\n",
        "\n",
        "# Text Normalization\n",
        "df['responsibilities'] = df['responsibilities'].str.replace('[^a-zA-Z\\s]', '', regex=True)\n",
        "\n",
        "\n",
        "# After Changes\n",
        "print(\"\\nFirst few rows of the cleaned 'responsibilities' column:\")\n",
        "print(df['responsibilities'].head())"
      ],
      "metadata": {
        "colab": {
          "base_uri": "https://localhost:8080/"
        },
        "id": "4ALPLB6VHjgC",
        "outputId": "c585d240-7db0-41eb-de02-4e73af87f5aa"
      },
      "execution_count": 14,
      "outputs": [
        {
          "output_type": "stream",
          "name": "stdout",
          "text": [
            "Number of missing responsibilities: 0\n",
            "\n",
            "First few rows of the cleaned 'responsibilities' column:\n",
            "0         customer servicesalesrelationship management\n",
            "1    product managementmarket analysischange manage...\n",
            "2    business processchange managementteam manageme...\n",
            "3    business processchange managementteam manageme...\n",
            "4    sap bopl  sqloracle sqlsap business objects  x...\n",
            "Name: responsibilities, dtype: object\n"
          ]
        }
      ]
    },
    {
      "cell_type": "markdown",
      "source": [
        "###3.10- Exploring rest of the columns"
      ],
      "metadata": {
        "id": "vOIM8rWNKnbT"
      }
    },
    {
      "cell_type": "code",
      "source": [
        "# Drop column posted_on\n",
        "df.drop(columns =['posted_on','job_link','company_link'], inplace=True)\n",
        "\n",
        "# After the changes\n",
        "print(\"Columns after deletion:\")\n",
        "print(df.columns)\n"
      ],
      "metadata": {
        "colab": {
          "base_uri": "https://localhost:8080/"
        },
        "id": "5XLPCEBkIiat",
        "outputId": "780fc216-3369-4808-bed6-e805b9c82e37"
      },
      "execution_count": 15,
      "outputs": [
        {
          "output_type": "stream",
          "name": "stdout",
          "text": [
            "Columns after deletion:\n",
            "Index(['job_id', 'job_role', 'company', 'experience', 'salary', 'location',\n",
            "       'rating', 'reviews', 'responsibilities', 'experience_range',\n",
            "       'salary_range', 'location_cluster'],\n",
            "      dtype='object')\n"
          ]
        }
      ]
    },
    {
      "cell_type": "markdown",
      "source": [
        "##4- Information"
      ],
      "metadata": {
        "id": "LafmaL6yMnui"
      }
    },
    {
      "cell_type": "code",
      "source": [
        "# Create a copy of the DataFrame\n",
        "df_copy = df.copy()\n",
        "\n",
        "# Drop the 'experience' column and replace 'experience_range' with 'experience'\n",
        "if 'experience' in df_copy.columns:\n",
        "    df_copy.drop(columns=['experience'], inplace=True)\n",
        "\n",
        "if 'experience_range' in df_copy.columns:\n",
        "    df_copy.rename(columns={'experience_range': 'experience'}, inplace=True)\n",
        "\n",
        "# Drop the 'salary' column and replace 'salary_range' with 'salary'\n",
        "if 'salary' in df_copy.columns:\n",
        "    df_copy.drop(columns=['salary'], inplace=True)\n",
        "\n",
        "if 'salary_range' in df_copy.columns:\n",
        "    df_copy.rename(columns={'salary_range': 'salary'}, inplace=True)\n",
        "\n",
        "# Display the DataFrame\n",
        "print(\"\\nUpdated DataFrame:\")\n",
        "print(df_copy)\n",
        "\n",
        "# Save the updated DataFrame to a local CSV file\n",
        "output_file_path = 'updated_one.csv'\n",
        "df_copy.to_csv(output_file_path, index=False)\n",
        "\n",
        "print(f\"The updated DataFrame has been saved to {output_file_path}\")"
      ],
      "metadata": {
        "colab": {
          "base_uri": "https://localhost:8080/"
        },
        "id": "oiK2kOifL5HC",
        "outputId": "f46a19b3-1c45-473e-e0f6-e95186d7a7ef"
      },
      "execution_count": 16,
      "outputs": [
        {
          "output_type": "stream",
          "name": "stdout",
          "text": [
            "\n",
            "Updated DataFrame:\n",
            "               job_id                                           job_role  \\\n",
            "0       70123006070.0      Branch Banking - Calling For Women Candidates   \n",
            "1       60123905908.0                       Product Owner Senior Manager   \n",
            "2       60123905898.0  Employee Relations And Policies Associate Manager   \n",
            "3       60123905897.0         Employee Relations And Policies Specialist   \n",
            "4       60123008332.0                                  Sap Bo Consultant   \n",
            "...               ...                                                ...   \n",
            "73762   20123002989.0            Partner Success Executive/Edtech/Punjab   \n",
            "73763   20123002957.0            Partner Success Associate/Edtech/Punjab   \n",
            "73764  231222003986.0  Hiring For International Voice Process | Gurga...   \n",
            "73765  171220001449.0                                   Fresher Engineer   \n",
            "73766   71022008732.0            Anatomy Trainer - Part Time / Full Time   \n",
            "\n",
            "                     company          location  rating  reviews  \\\n",
            "0                  Hdfc Bank       Delhi / Ncr     4.0  39110.0   \n",
            "1                  Accenture       Delhi / Ncr     4.1  32129.0   \n",
            "2                  Accenture       Delhi / Ncr     4.1  32129.0   \n",
            "3                  Accenture       Delhi / Ncr     4.1  32129.0   \n",
            "4                   Mindtree       Delhi / Ncr     4.1   3759.0   \n",
            "...                      ...               ...     ...      ...   \n",
            "73762       Parth Associates  Permanent Remote     4.0    231.0   \n",
            "73763       Parth Associates  Permanent Remote     4.0    231.0   \n",
            "73764   First Step Solutions  Gurgaon/Gurugram     4.0    231.0   \n",
            "73765                 Sofcon  Permanent Remote     2.8      3.0   \n",
            "73766  Indian Healthcare Bpo  Permanent Remote     4.0    231.0   \n",
            "\n",
            "                                        responsibilities  experience  \\\n",
            "0           customer servicesalesrelationship management         3.5   \n",
            "1      product managementmarket analysischange manage...        13.0   \n",
            "2      business processchange managementteam manageme...         5.0   \n",
            "3      business processchange managementteam manageme...         5.0   \n",
            "4      sap bopl  sqloracle sqlsap business objects  x...         6.0   \n",
            "...                                                  ...         ...   \n",
            "73762  crmcommunication skillspresentation skillscust...         3.0   \n",
            "73763  crmcommunication skillspresentation skillscust...         3.0   \n",
            "73764  customer serviceus processhospitalitycustomer ...         2.5   \n",
            "73765  engineeringb tech fresherautocaddegreeplcelect...         1.0   \n",
            "73766  lecturer activitiesnursing educationtrainerbds...         3.5   \n",
            "\n",
            "              salary  location_cluster  \n",
            "0      Not disclosed                 1  \n",
            "1      Not disclosed                 1  \n",
            "2      Not disclosed                 1  \n",
            "3      Not disclosed                 1  \n",
            "4      Not disclosed                 1  \n",
            "...              ...               ...  \n",
            "73762       775000.0                 0  \n",
            "73763       775000.0                 0  \n",
            "73764       375000.0                 4  \n",
            "73765  Not disclosed                 0  \n",
            "73766  Not disclosed                 0  \n",
            "\n",
            "[71738 rows x 10 columns]\n",
            "The updated DataFrame has been saved to updated_one.csv\n"
          ]
        }
      ]
    },
    {
      "cell_type": "code",
      "source": [],
      "metadata": {
        "id": "qcKKzVTPMA6m"
      },
      "execution_count": 20,
      "outputs": []
    }
  ]
}